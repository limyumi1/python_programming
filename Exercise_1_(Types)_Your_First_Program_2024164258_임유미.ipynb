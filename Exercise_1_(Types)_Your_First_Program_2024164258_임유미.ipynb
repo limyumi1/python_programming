{
  "nbformat": 4,
  "nbformat_minor": 0,
  "metadata": {
    "colab": {
      "provenance": [],
      "authorship_tag": "ABX9TyM6wTV0usGZhYzPI+x0B6uY",
      "include_colab_link": true
    },
    "kernelspec": {
      "name": "python3",
      "display_name": "Python 3"
    },
    "language_info": {
      "name": "python"
    }
  },
  "cells": [
    {
      "cell_type": "markdown",
      "metadata": {
        "id": "view-in-github",
        "colab_type": "text"
      },
      "source": [
        "<a href=\"https://colab.research.google.com/github/limyumi1/python_programming/blob/main/Exercise_1_(Types)_Your_First_Program_2024164258_%EC%9E%84%EC%9C%A0%EB%AF%B8.ipynb\" target=\"_parent\"><img src=\"https://colab.research.google.com/assets/colab-badge.svg\" alt=\"Open In Colab\"/></a>"
      ]
    },
    {
      "cell_type": "code",
      "execution_count": 1,
      "metadata": {
        "colab": {
          "base_uri": "https://localhost:8080/"
        },
        "id": "h6M9UJoy85RR",
        "outputId": "5518a1ae-fc7f-45b4-dd98-ea76c2053d34"
      },
      "outputs": [
        {
          "output_type": "stream",
          "name": "stdout",
          "text": [
            "Hello, world!\n"
          ]
        }
      ],
      "source": [
        "print(\"Hello, world!\")\n",
        "#Exercise 1 (Types) 숙제 제출합니다. 2024164258 임유미"
      ]
    },
    {
      "cell_type": "code",
      "source": [],
      "metadata": {
        "id": "OEA1-3GB9G5J"
      },
      "execution_count": null,
      "outputs": []
    }
  ]
}