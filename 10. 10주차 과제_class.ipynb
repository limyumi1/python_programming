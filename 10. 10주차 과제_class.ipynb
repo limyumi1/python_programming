{
 "cells": [
  {
   "cell_type": "code",
   "execution_count": null,
   "id": "3fa39219-fbff-439c-9cae-8b038fa6ef23",
   "metadata": {},
   "outputs": [],
   "source": [
    "# python 10주차 과제 - 2024164258 임유미"
   ]
  },
  {
   "cell_type": "code",
   "execution_count": 9,
   "id": "a5d660e1-e5b7-4d17-83be-528761c84982",
   "metadata": {},
   "outputs": [
    {
     "name": "stdout",
     "output_type": "stream",
     "text": [
      "3\n",
      "7\n"
     ]
    }
   ],
   "source": [
    "result=0\n",
    "def adder(num):\n",
    "    global result\n",
    "    result+=num\n",
    "    return result\n",
    "\n",
    "print(adder(3))\n",
    "print(adder(4))"
   ]
  },
  {
   "cell_type": "code",
   "execution_count": 10,
   "id": "53724b18-e15d-429b-b2a2-7d77137a8052",
   "metadata": {},
   "outputs": [
    {
     "data": {
      "text/plain": [
       "12"
      ]
     },
     "execution_count": 10,
     "metadata": {},
     "output_type": "execute_result"
    }
   ],
   "source": [
    "adder(5)"
   ]
  },
  {
   "cell_type": "code",
   "execution_count": null,
   "id": "ae1c55e9-527f-4873-8de5-ab6f377eea40",
   "metadata": {},
   "outputs": [],
   "source": []
  },
  {
   "cell_type": "code",
   "execution_count": 11,
   "id": "7cd708ef-b31a-471e-a983-c30e97ddd702",
   "metadata": {},
   "outputs": [
    {
     "name": "stdout",
     "output_type": "stream",
     "text": [
      "3\n",
      "7\n",
      "3\n",
      "10\n"
     ]
    }
   ],
   "source": [
    "result1 = 0\n",
    "result2=0\n",
    "\n",
    "def adder1(num):\n",
    "    global result1\n",
    "    result1 += num\n",
    "    return result1\n",
    "\n",
    "def adder2(num):\n",
    "    global result2\n",
    "    result2 += num\n",
    "    return result2\n",
    "\n",
    "print(adder1(3))\n",
    "print(adder1(4))\n",
    "print(adder2(3))\n",
    "print(adder2(7))"
   ]
  },
  {
   "cell_type": "code",
   "execution_count": null,
   "id": "fb91fe34-6ef3-4703-994e-7557bacaab24",
   "metadata": {},
   "outputs": [],
   "source": []
  },
  {
   "cell_type": "code",
   "execution_count": 12,
   "id": "917b76a2-a180-435f-875a-0daaecdce22e",
   "metadata": {},
   "outputs": [
    {
     "name": "stdout",
     "output_type": "stream",
     "text": [
      "3\n",
      "7\n",
      "3\n",
      "10\n"
     ]
    }
   ],
   "source": [
    "class calculator:\n",
    "    def __init__(self):\n",
    "        self.result=0\n",
    "\n",
    "    def adder(self, num):\n",
    "        self.result += num\n",
    "        return self.result\n",
    "\n",
    "cal1 = calculator()\n",
    "cal2 = calculator()\n",
    "\n",
    "print(cal1.adder(3))\n",
    "print(cal1.adder(4))\n",
    "print(cal2.adder(3))\n",
    "print(cal2.adder(7))"
   ]
  },
  {
   "cell_type": "code",
   "execution_count": null,
   "id": "9a4c3abb-ebc5-4ff8-aedf-079538ae02ff",
   "metadata": {},
   "outputs": [],
   "source": []
  },
  {
   "cell_type": "code",
   "execution_count": 13,
   "id": "e7c523b1-2086-4c7b-b57a-608463ae921a",
   "metadata": {},
   "outputs": [
    {
     "data": {
      "text/plain": [
       "'지구는 4006년에 멸망한다.'"
      ]
     },
     "execution_count": 13,
     "metadata": {},
     "output_type": "execute_result"
    }
   ],
   "source": [
    "class service:\n",
    "    secret = \"지구는 4006년에 멸망한다.\"\n",
    "\n",
    "an = service()\n",
    "an.secret"
   ]
  },
  {
   "cell_type": "code",
   "execution_count": 14,
   "id": "106bd30f-dca6-48f7-915f-0f592571a923",
   "metadata": {},
   "outputs": [
    {
     "data": {
      "text/plain": [
       "'지구는 4006년에 멸망한다.'"
      ]
     },
     "execution_count": 14,
     "metadata": {},
     "output_type": "execute_result"
    }
   ],
   "source": [
    "service.secret"
   ]
  },
  {
   "cell_type": "code",
   "execution_count": 15,
   "id": "854304ce-2d2a-42d5-8469-5c3fcfe64dbc",
   "metadata": {},
   "outputs": [
    {
     "name": "stdout",
     "output_type": "stream",
     "text": [
      "지구가 4006년에 멸망한다는 사실은 뻥이다.\n"
     ]
    }
   ],
   "source": [
    "service.secret='지구가 4006년에 멸망한다는 사실은 뻥이다.'\n",
    "print(an.secret)"
   ]
  },
  {
   "cell_type": "code",
   "execution_count": 16,
   "id": "b182e602-207c-476e-9f5b-96e640239005",
   "metadata": {},
   "outputs": [],
   "source": [
    "class service:\n",
    "    secret = \"지구는 4006년에 멸망한다\"\n",
    "    def sum(self, a, b):\n",
    "        result = a+b\n",
    "        print(\"%s+%s=%s이다.\" %(a, b, result))"
   ]
  },
  {
   "cell_type": "code",
   "execution_count": 17,
   "id": "92c7faac-ce5e-4c94-a4e2-11d42ae18d94",
   "metadata": {},
   "outputs": [
    {
     "name": "stdout",
     "output_type": "stream",
     "text": [
      "1+1=2이다.\n"
     ]
    }
   ],
   "source": [
    "an=service()\n",
    "an.sum(1,1)"
   ]
  },
  {
   "cell_type": "code",
   "execution_count": 24,
   "id": "574a7d98-6581-45c2-91f0-a28c2a9ef7c1",
   "metadata": {},
   "outputs": [],
   "source": [
    "class service:\n",
    "    secret = \"지구는 4006년에 멸망한다\"\n",
    "    def setname(self, name):\n",
    "        self.name=name\n",
    "    def sum(self, a, b):\n",
    "        result=a+b\n",
    "        print(\"%s님, %s+%s=%s입니다.\" % (self.name, a, b, result))"
   ]
  },
  {
   "cell_type": "code",
   "execution_count": 25,
   "id": "e2cc66b4-a312-4a9a-b91f-3172c0d3b2b6",
   "metadata": {},
   "outputs": [
    {
     "name": "stdout",
     "output_type": "stream",
     "text": [
      "박달도사님, 1+1=2입니다.\n"
     ]
    }
   ],
   "source": [
    "an = service()\n",
    "an.setname(\"박달도사\")\n",
    "an.sum(1, 1)"
   ]
  },
  {
   "cell_type": "code",
   "execution_count": null,
   "id": "9da882c3-c96f-4c96-a01b-e3937c8c64a0",
   "metadata": {},
   "outputs": [],
   "source": []
  },
  {
   "cell_type": "code",
   "execution_count": 26,
   "id": "6c028f7a-7d76-4a30-af40-ac3d044946fd",
   "metadata": {},
   "outputs": [
    {
     "name": "stdout",
     "output_type": "stream",
     "text": [
      "김정보\n"
     ]
    }
   ],
   "source": [
    "kim = service()\n",
    "park = service()\n",
    "kim.name = \"김정보\"\n",
    "park.name = \"박융합\"\n",
    "\n",
    "print(kim.name)"
   ]
  },
  {
   "cell_type": "code",
   "execution_count": 27,
   "id": "f8575044-ea5e-48a4-86ad-34e8391b0638",
   "metadata": {},
   "outputs": [
    {
     "name": "stdout",
     "output_type": "stream",
     "text": [
      "박융합\n"
     ]
    }
   ],
   "source": [
    "print(park.name)"
   ]
  },
  {
   "cell_type": "code",
   "execution_count": 28,
   "id": "5a6bf323-ee06-4e5c-91b5-9efe1231d2d6",
   "metadata": {},
   "outputs": [
    {
     "name": "stdout",
     "output_type": "stream",
     "text": [
      "지구는 4006년에 멸망한다\n"
     ]
    }
   ],
   "source": [
    "kim.secret = \"비밀은 없다\"\n",
    "print(park.secret)"
   ]
  },
  {
   "cell_type": "code",
   "execution_count": 29,
   "id": "6c02c435-5453-4178-b6ba-b849401b96f6",
   "metadata": {},
   "outputs": [
    {
     "name": "stdout",
     "output_type": "stream",
     "text": [
      "비밀은 없다\n"
     ]
    }
   ],
   "source": [
    "print(kim.secret)"
   ]
  },
  {
   "cell_type": "code",
   "execution_count": 30,
   "id": "a7aad3d8-4053-4117-92ff-3396d53ae6d7",
   "metadata": {},
   "outputs": [
    {
     "data": {
      "text/plain": [
       "'지구는 4006년에 멸망한다'"
      ]
     },
     "execution_count": 30,
     "metadata": {},
     "output_type": "execute_result"
    }
   ],
   "source": [
    "service.secret"
   ]
  },
  {
   "cell_type": "code",
   "execution_count": null,
   "id": "5ea10a61-5873-4d60-8eb3-087ef7e45fea",
   "metadata": {},
   "outputs": [],
   "source": []
  },
  {
   "cell_type": "code",
   "execution_count": 31,
   "id": "3cf5bfb6-e2e0-4b3d-ab03-cf60dda39b53",
   "metadata": {},
   "outputs": [
    {
     "ename": "AttributeError",
     "evalue": "'service' object has no attribute 'name'",
     "output_type": "error",
     "traceback": [
      "\u001b[1;31m---------------------------------------------------------------------------\u001b[0m",
      "\u001b[1;31mAttributeError\u001b[0m                            Traceback (most recent call last)",
      "Cell \u001b[1;32mIn[31], line 2\u001b[0m\n\u001b[0;32m      1\u001b[0m lee \u001b[38;5;241m=\u001b[39m service()\n\u001b[1;32m----> 2\u001b[0m \u001b[43mlee\u001b[49m\u001b[38;5;241;43m.\u001b[39;49m\u001b[43msum\u001b[49m\u001b[43m(\u001b[49m\u001b[38;5;241;43m1\u001b[39;49m\u001b[43m,\u001b[49m\u001b[38;5;241;43m1\u001b[39;49m\u001b[43m)\u001b[49m\n",
      "Cell \u001b[1;32mIn[24], line 7\u001b[0m, in \u001b[0;36mservice.sum\u001b[1;34m(self, a, b)\u001b[0m\n\u001b[0;32m      5\u001b[0m \u001b[38;5;28;01mdef\u001b[39;00m \u001b[38;5;21msum\u001b[39m(\u001b[38;5;28mself\u001b[39m, a, b):\n\u001b[0;32m      6\u001b[0m     result\u001b[38;5;241m=\u001b[39ma\u001b[38;5;241m+\u001b[39mb\n\u001b[1;32m----> 7\u001b[0m     \u001b[38;5;28mprint\u001b[39m(\u001b[38;5;124m\"\u001b[39m\u001b[38;5;132;01m%s\u001b[39;00m\u001b[38;5;124m님, \u001b[39m\u001b[38;5;132;01m%s\u001b[39;00m\u001b[38;5;124m+\u001b[39m\u001b[38;5;132;01m%s\u001b[39;00m\u001b[38;5;124m=\u001b[39m\u001b[38;5;132;01m%s\u001b[39;00m\u001b[38;5;124m입니다.\u001b[39m\u001b[38;5;124m\"\u001b[39m \u001b[38;5;241m%\u001b[39m (\u001b[38;5;28;43mself\u001b[39;49m\u001b[38;5;241;43m.\u001b[39;49m\u001b[43mname\u001b[49m, a, b, result))\n",
      "\u001b[1;31mAttributeError\u001b[0m: 'service' object has no attribute 'name'"
     ]
    }
   ],
   "source": [
    "lee = service()\n",
    "lee.sum(1,1)"
   ]
  },
  {
   "cell_type": "code",
   "execution_count": 32,
   "id": "087f9e34-ccc9-44b0-8ff0-d4b8bbcb0cca",
   "metadata": {},
   "outputs": [],
   "source": [
    "class service:\n",
    "    secret = \"지구는 4006년에 멸망한다\"\n",
    "    def __init__(self, name):\n",
    "        self.name = name\n",
    "    def sum(self, a, b):\n",
    "        result = a+b\n",
    "        print(\"%s님, %s + %s = %s입니다.\" % (self.name, a, b, result))"
   ]
  },
  {
   "cell_type": "code",
   "execution_count": 33,
   "id": "6c8347b6-1019-4b68-a002-f1aa01eae4da",
   "metadata": {},
   "outputs": [
    {
     "name": "stdout",
     "output_type": "stream",
     "text": [
      "박달도사님, 1 + 1 = 2입니다.\n"
     ]
    }
   ],
   "source": [
    "an = service(\"박달도사\")\n",
    "an.sum(1, 1)"
   ]
  },
  {
   "cell_type": "code",
   "execution_count": null,
   "id": "8ac4f302-e942-48ca-928e-8157ae194350",
   "metadata": {},
   "outputs": [],
   "source": []
  },
  {
   "cell_type": "code",
   "execution_count": 34,
   "id": "5fa58aaf-72b4-41a8-a9e9-7835d4532af4",
   "metadata": {},
   "outputs": [],
   "source": [
    "class fourcal:\n",
    "    pass"
   ]
  },
  {
   "cell_type": "code",
   "execution_count": 36,
   "id": "cb118e4a-c9bc-47ed-8022-670df4a3f0a6",
   "metadata": {},
   "outputs": [
    {
     "name": "stdout",
     "output_type": "stream",
     "text": [
      "<class '__main__.fourcal'>\n"
     ]
    }
   ],
   "source": [
    "a=fourcal()\n",
    "print(type(a))"
   ]
  },
  {
   "cell_type": "code",
   "execution_count": 37,
   "id": "eea4e702-6552-438c-b64d-25ccff879b0f",
   "metadata": {},
   "outputs": [
    {
     "name": "stdout",
     "output_type": "stream",
     "text": [
      "4\n"
     ]
    }
   ],
   "source": [
    "class fourcal:\n",
    "    def setdata(self, first, second):\n",
    "        self.first = first\n",
    "        self.second = second\n",
    "\n",
    "a=fourcal()\n",
    "a.setdata(4, 2)\n",
    "\n",
    "print(a.first)"
   ]
  },
  {
   "cell_type": "code",
   "execution_count": 38,
   "id": "e95bedbb-aa97-4c33-93c1-fd8e38f7ce35",
   "metadata": {},
   "outputs": [
    {
     "name": "stdout",
     "output_type": "stream",
     "text": [
      "2\n"
     ]
    }
   ],
   "source": [
    "print(a.second)"
   ]
  },
  {
   "cell_type": "code",
   "execution_count": null,
   "id": "3e2c682e-a3b8-4121-b055-c549f08540e2",
   "metadata": {},
   "outputs": [],
   "source": []
  },
  {
   "cell_type": "code",
   "execution_count": 39,
   "id": "33cdb628-8e95-448f-8a5f-9afcb5d8e240",
   "metadata": {},
   "outputs": [
    {
     "name": "stdout",
     "output_type": "stream",
     "text": [
      "6\n"
     ]
    }
   ],
   "source": [
    "class fourcal:\n",
    "    def setdata(self, first, second):\n",
    "        self.first = first\n",
    "        self.second = second\n",
    "    def sum(self):\n",
    "        result = self.first + self.second\n",
    "        return result\n",
    "\n",
    "a = fourcal()\n",
    "a.setdata(4, 2)\n",
    "\n",
    "print(a.sum())"
   ]
  },
  {
   "cell_type": "code",
   "execution_count": null,
   "id": "01725468-e1ad-462b-81a9-27c70f56810a",
   "metadata": {},
   "outputs": [],
   "source": []
  },
  {
   "cell_type": "code",
   "execution_count": 40,
   "id": "8a989965-69c7-4624-878f-7c7329553008",
   "metadata": {},
   "outputs": [],
   "source": [
    "class fourcal:\n",
    "    def setdata(self, first, second):\n",
    "        self.first = first\n",
    "        self.second = second\n",
    "    def sum(self):\n",
    "        result = self.first + self.second\n",
    "        return result\n",
    "    def mul(self):\n",
    "        result = self.first * self.second\n",
    "        return result\n",
    "    def sub(self):\n",
    "        result = self.first - self.second\n",
    "        return result\n",
    "    def div(self):\n",
    "        result = self.first / self.second\n",
    "        return result"
   ]
  },
  {
   "cell_type": "code",
   "execution_count": 52,
   "id": "d774c24d-ba33-47fc-9e1e-b072c6a7ea86",
   "metadata": {},
   "outputs": [],
   "source": [
    "a= fourcal()"
   ]
  },
  {
   "cell_type": "code",
   "execution_count": 55,
   "id": "a445dc4c-3bdc-4de8-906c-33d5b831fd86",
   "metadata": {},
   "outputs": [],
   "source": [
    "b= fourcal()"
   ]
  },
  {
   "cell_type": "code",
   "execution_count": 56,
   "id": "aee620ff-ba84-49b2-af40-d30de811765f",
   "metadata": {},
   "outputs": [],
   "source": [
    "a.setdata(4, 2)\n",
    "b.setdata(3, 7)"
   ]
  },
  {
   "cell_type": "code",
   "execution_count": 57,
   "id": "726bbf2d-f4ce-447e-84c8-546c93b4a5f1",
   "metadata": {},
   "outputs": [
    {
     "data": {
      "text/plain": [
       "6"
      ]
     },
     "execution_count": 57,
     "metadata": {},
     "output_type": "execute_result"
    }
   ],
   "source": [
    "a.sum()"
   ]
  },
  {
   "cell_type": "code",
   "execution_count": 58,
   "id": "7d52bb36-ddaf-45fd-8173-ec68e7afb699",
   "metadata": {},
   "outputs": [
    {
     "data": {
      "text/plain": [
       "8"
      ]
     },
     "execution_count": 58,
     "metadata": {},
     "output_type": "execute_result"
    }
   ],
   "source": [
    "a.mul()"
   ]
  },
  {
   "cell_type": "code",
   "execution_count": 59,
   "id": "9ab18e65-fd3a-416d-ab07-0d6dde57e332",
   "metadata": {},
   "outputs": [
    {
     "data": {
      "text/plain": [
       "2"
      ]
     },
     "execution_count": 59,
     "metadata": {},
     "output_type": "execute_result"
    }
   ],
   "source": [
    "a.sub()"
   ]
  },
  {
   "cell_type": "code",
   "execution_count": 60,
   "id": "cfed5324-d357-4c6e-bacd-b38982020ef7",
   "metadata": {},
   "outputs": [
    {
     "data": {
      "text/plain": [
       "2.0"
      ]
     },
     "execution_count": 60,
     "metadata": {},
     "output_type": "execute_result"
    }
   ],
   "source": [
    "a.div()"
   ]
  },
  {
   "cell_type": "code",
   "execution_count": 61,
   "id": "3d5c1e25-1ecc-4ca8-80d9-614b526f752b",
   "metadata": {},
   "outputs": [
    {
     "data": {
      "text/plain": [
       "-4"
      ]
     },
     "execution_count": 61,
     "metadata": {},
     "output_type": "execute_result"
    }
   ],
   "source": [
    "b.sub()"
   ]
  },
  {
   "cell_type": "code",
   "execution_count": null,
   "id": "87993288-ade1-4c55-9997-87775453641a",
   "metadata": {},
   "outputs": [],
   "source": []
  },
  {
   "cell_type": "code",
   "execution_count": 63,
   "id": "e9b1a059-9955-4cf6-b7a9-bce694b96e26",
   "metadata": {},
   "outputs": [
    {
     "name": "stdout",
     "output_type": "stream",
     "text": [
      "Player 1 rolled[5, 2, 1]\n",
      "Player 2 rolled[4, 4, 5]\n",
      "Player 2 wins\n"
     ]
    }
   ],
   "source": [
    "import random\n",
    "\n",
    "player1_dice = []\n",
    "player2_dice = []\n",
    "\n",
    "for i in range(3):\n",
    "    player1_dice.append(random.randint(1, 6))\n",
    "    player2_dice.append(random.randint(1, 6))\n",
    "\n",
    "print(\"Player 1 rolled\" + str(player1_dice))\n",
    "print(\"Player 2 rolled\" + str(player2_dice))\n",
    "\n",
    "if sum(player1_dice) == sum(player2_dice):\n",
    "    print(\"Draw\")\n",
    "elif sum(player1_dice) > sum(player2_dice):\n",
    "    print(\"Player 1 wins\")\n",
    "else:\n",
    "    print(\"Player 2 wins\")"
   ]
  },
  {
   "cell_type": "code",
   "execution_count": null,
   "id": "d5e56efe-bf11-489d-b005-dc62b19231be",
   "metadata": {},
   "outputs": [],
   "source": []
  },
  {
   "cell_type": "code",
   "execution_count": 64,
   "id": "51596c31-90bf-4c70-b91b-359a3724e5c4",
   "metadata": {},
   "outputs": [
    {
     "name": "stdout",
     "output_type": "stream",
     "text": [
      "Player 1 rolled[5, 4, 3]\n",
      "Player 2 rolled[5, 2, 3]\n",
      "Player 1 wins!\n"
     ]
    }
   ],
   "source": [
    "from random import randint\n",
    "\n",
    "class Player:\n",
    "    def __init__(self):\n",
    "        self.dice = []\n",
    "    def roll(self):\n",
    "        self.dice = []\n",
    "        for i in range(3):\n",
    "            self.dice.append(randint(1, 6))\n",
    "    def get_dice(self):\n",
    "        return self.dice\n",
    "\n",
    "player1 = Player()\n",
    "player2 = Player()\n",
    "\n",
    "player1.roll()\n",
    "player2.roll()\n",
    "\n",
    "print(\"Player 1 rolled\" + str(player1.get_dice()))\n",
    "print(\"Player 2 rolled\" + str(player2.get_dice()))\n",
    "\n",
    "if sum(player1.get_dice()) == sum(player2.get_dice()):\n",
    "    print(\"Draw!\")\n",
    "elif sum(player1.get_dice()) > sum(player2.get_dice()):\n",
    "    print(\"Player 1 wins!\")\n",
    "else:\n",
    "    print(\"Player 2 wins!\")"
   ]
  },
  {
   "cell_type": "code",
   "execution_count": null,
   "id": "486c6039-51eb-4b28-b346-fc1ce18d9d61",
   "metadata": {},
   "outputs": [],
   "source": []
  },
  {
   "cell_type": "code",
   "execution_count": 66,
   "id": "d95e3d70-52e1-4a37-8e4d-04a5388868fb",
   "metadata": {},
   "outputs": [],
   "source": [
    "class customer(object):\n",
    "    def __init__(self, name):\n",
    "        self.name = name\n",
    "    def set_balance(self, balance=0.0):\n",
    "        self.balance = balance\n",
    "    def withdraw(self, amount):\n",
    "        if amount > self.balance:\n",
    "            raise runtimeError('Amoiunt greater than available balance.')\n",
    "        self.balance -= amount\n",
    "        return self.balance\n",
    "    def deposit(self, amount):\n",
    "        self.balance += amount\n",
    "        return self.balance"
   ]
  },
  {
   "cell_type": "code",
   "execution_count": null,
   "id": "aae7b317-26fc-4d12-ac66-73bfddabb4f9",
   "metadata": {},
   "outputs": [],
   "source": []
  }
 ],
 "metadata": {
  "kernelspec": {
   "display_name": "Python 3 (ipykernel)",
   "language": "python",
   "name": "python3"
  },
  "language_info": {
   "codemirror_mode": {
    "name": "ipython",
    "version": 3
   },
   "file_extension": ".py",
   "mimetype": "text/x-python",
   "name": "python",
   "nbconvert_exporter": "python",
   "pygments_lexer": "ipython3",
   "version": "3.12.2"
  }
 },
 "nbformat": 4,
 "nbformat_minor": 5
}
